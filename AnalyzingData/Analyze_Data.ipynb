{
 "cells": [
  {
   "cell_type": "markdown",
   "metadata": {},
   "source": [
    "# Analyzing csv file"
   ]
  },
  {
   "cell_type": "markdown",
   "metadata": {},
   "source": [
    "## Import libraries"
   ]
  },
  {
   "cell_type": "code",
   "execution_count": 5,
   "metadata": {},
   "outputs": [],
   "source": [
    "import pandas as pd\n"
   ]
  },
  {
   "cell_type": "markdown",
   "metadata": {},
   "source": [
    "## Analyzing csv file (columns data type)"
   ]
  },
  {
   "cell_type": "code",
   "execution_count": 22,
   "metadata": {},
   "outputs": [
    {
     "name": "stdout",
     "output_type": "stream",
     "text": [
      "<class 'pandas.core.frame.DataFrame'>\n",
      "RangeIndex: 10 entries, 0 to 9\n",
      "Data columns (total 7 columns):\n",
      " #   Column             Non-Null Count  Dtype  \n",
      "---  ------             --------------  -----  \n",
      " 0   Name               10 non-null     object \n",
      " 1   Price              10 non-null     float64\n",
      " 2   Volume             10 non-null     int64  \n",
      " 3   Capacity           10 non-null     int64  \n",
      " 4   History last hour  10 non-null     float64\n",
      " 5   History last day   10 non-null     float64\n",
      " 6   History last week  10 non-null     float64\n",
      "dtypes: float64(4), int64(2), object(1)\n",
      "memory usage: 692.0+ bytes\n"
     ]
    }
   ],
   "source": [
    "df=pd.read_csv(\"Data/Data_2023-10-08\")\n",
    "\n",
    "df.info()\n",
    "\n",
    "\n"
   ]
  },
  {
   "cell_type": "code",
   "execution_count": 3,
   "metadata": {},
   "outputs": [
    {
     "name": "stdout",
     "output_type": "stream",
     "text": [
      "Collecting mysql-connector-python\n",
      "  Obtaining dependency information for mysql-connector-python from https://files.pythonhosted.org/packages/d3/b8/6798a0f91e595c0704a94c1e32a00ca930f77cb8f0f96c7e4dad4f9db1fe/mysql_connector_python-8.1.0-cp311-cp311-win_amd64.whl.metadata\n",
      "  Downloading mysql_connector_python-8.1.0-cp311-cp311-win_amd64.whl.metadata (2.1 kB)\n",
      "Collecting protobuf<=4.21.12,>=4.21.1 (from mysql-connector-python)\n",
      "  Downloading protobuf-4.21.12-cp310-abi3-win_amd64.whl (527 kB)\n",
      "     ---------------------------------------- 0.0/527.0 kB ? eta -:--:--\n",
      "     ----- --------------------------------- 71.7/527.0 kB 2.0 MB/s eta 0:00:01\n",
      "     ------------------- ------------------ 276.5/527.0 kB 2.9 MB/s eta 0:00:01\n",
      "     -------------------------------------  522.2/527.0 kB 3.7 MB/s eta 0:00:01\n",
      "     -------------------------------------- 527.0/527.0 kB 3.7 MB/s eta 0:00:00\n",
      "Downloading mysql_connector_python-8.1.0-cp311-cp311-win_amd64.whl (10.8 MB)\n",
      "   ---------------------------------------- 0.0/10.8 MB ? eta -:--:--\n",
      "   - -------------------------------------- 0.5/10.8 MB 15.0 MB/s eta 0:00:01\n",
      "   - -------------------------------------- 0.5/10.8 MB 15.0 MB/s eta 0:00:01\n",
      "   ---- ----------------------------------- 1.3/10.8 MB 10.2 MB/s eta 0:00:01\n",
      "   ------ --------------------------------- 1.7/10.8 MB 9.1 MB/s eta 0:00:02\n",
      "   -------------- ------------------------- 3.9/10.8 MB 14.7 MB/s eta 0:00:01\n",
      "   -------------- ------------------------- 3.9/10.8 MB 14.7 MB/s eta 0:00:01\n",
      "   ------------------ --------------------- 5.0/10.8 MB 14.6 MB/s eta 0:00:01\n",
      "   ------------------ --------------------- 5.0/10.8 MB 14.6 MB/s eta 0:00:01\n",
      "   ------------------------ --------------- 6.5/10.8 MB 14.4 MB/s eta 0:00:01\n",
      "   ----------------------------- ---------- 8.0/10.8 MB 15.5 MB/s eta 0:00:01\n",
      "   ----------------------------------- ---- 9.5/10.8 MB 17.4 MB/s eta 0:00:01\n",
      "   ----------------------------------- ---- 9.6/10.8 MB 16.1 MB/s eta 0:00:01\n",
      "   ------------------------------------- -- 10.3/10.8 MB 16.0 MB/s eta 0:00:01\n",
      "   ---------------------------------------  10.8/10.8 MB 18.2 MB/s eta 0:00:01\n",
      "   ---------------------------------------- 10.8/10.8 MB 16.8 MB/s eta 0:00:00\n",
      "Installing collected packages: protobuf, mysql-connector-python\n",
      "Successfully installed mysql-connector-python-8.1.0 protobuf-4.21.12\n",
      "Note: you may need to restart the kernel to use updated packages.\n"
     ]
    }
   ],
   "source": [
    "pip install mysql-connector-python\n"
   ]
  }
 ],
 "metadata": {
  "kernelspec": {
   "display_name": "Python 3",
   "language": "python",
   "name": "python3"
  },
  "language_info": {
   "codemirror_mode": {
    "name": "ipython",
    "version": 3
   },
   "file_extension": ".py",
   "mimetype": "text/x-python",
   "name": "python",
   "nbconvert_exporter": "python",
   "pygments_lexer": "ipython3",
   "version": "3.11.3"
  }
 },
 "nbformat": 4,
 "nbformat_minor": 2
}
